{
 "cells": [
  {
   "cell_type": "code",
   "execution_count": 1,
   "metadata": {},
   "outputs": [],
   "source": [
    "import jsonlines\n",
    "input_file = '/root/Xiangpeng/RAG/paperag/ask-question/jsonl/raw_entity.jsonl'\n",
    "with jsonlines.open(input_file, mode='r') as reader:\n",
    "    documents = [doc for doc in reader]"
   ]
  },
  {
   "cell_type": "code",
   "execution_count": 4,
   "metadata": {},
   "outputs": [
    {
     "name": "stdout",
     "output_type": "stream",
     "text": [
      "entity{tuple_delimiter}STUDIES{tuple_delimiter}RESEARCH, ANALYSIS{tuple_delimiter}STUDIES refer to investigations and examinations conducted to gather information and draw conclusions about a particular topic or phenomenon. In this case, the studies are focused on the impact of autonomous vehicles on urban parking demand. \n",
      "entity{tuple_delimiter}PARKING DEMAND{tuple_delimiter}SOCIAL PHENOMENON, TRANSPORTATION{tuple_delimiter}PARKING DEMAND refers to the amount of space required for parking vehicles in a given area, typically within urban cities. It is influenced by factors such as population density, vehicle ownership rates, and land use patterns.\n",
      "entity{tuple_delimiter}URBAN CITIES{tuple_delimiter}GEOGRAPHICAL LOCATION, POPULATION CENTER{tuple_delimiter}URBAN CITIES are densely populated areas characterized by high concentrations of buildings, infrastructure, and residents. They often face challenges related to transportation, parking, and urban planning.\n",
      "entity{tuple_delimiter}AUTONOMOUS VEHICLES{tuple_delimiter}TECHNOLOGY, TRANSPORTATION{tuple_delimiter}AUTONOMOUS VEHICLES are self-driving cars that can navigate and operate without human intervention. They utilize advanced sensors, artificial intelligence, and machine learning algorithms to perceive their surroundings and make driving decisions.\n",
      "\n",
      "relationship{tuple_delimiter}STUDIES{tuple_delimiter}PARKING DEMAND{tuple_delimiter}The studies are investigating the potential impact of autonomous vehicles on parking demand in urban cities.{tuple_delimiter}3\n",
      "relationship{tuple_delimiter}AUTONOMOUS VEHICLES{tuple_delimiter}PARKING DEMAND{tuple_delimiter}Autonomous vehicles are suggested to potentially reduce parking demand in urban cities.{tuple_delimiter}2\n",
      "relationship{tuple_delimiter}URBAN CITIES{tuple_delimiter}PARKING DEMAND{tuple_delimiter}Parking demand is a significant concern in urban cities due to high population density and vehicle ownership rates.{tuple_delimiter}4\n",
      "\n",
      "\n",
      "\n",
      "{completion_delimiter} \n",
      "\n"
     ]
    }
   ],
   "source": [
    "print(documents[0]['entity'])"
   ]
  },
  {
   "cell_type": "code",
   "execution_count": 34,
   "metadata": {},
   "outputs": [],
   "source": [
    "# Function to parse the input data\n",
    "import re\n",
    "\n",
    "tuple_delimiter = \"{tuple_delimiter}\"\n",
    "\n",
    "def standardize_delimiter(input_string, standard_delimiter=\"{tuple_delimiter}\"):\n",
    "    # Define the regex pattern to match any case variation of {tuple_delimiter}\n",
    "    pattern = re.compile(r'\\{tuple_delimiter\\}', re.IGNORECASE)\n",
    "    \n",
    "    # Replace all variations with the standard delimiter\n",
    "    standardized_string = pattern.sub(standard_delimiter, input_string)\n",
    "    \n",
    "    return standardized_string\n",
    "def parse_input(data):\n",
    "    entities = []\n",
    "    relationships = []\n",
    "\n",
    "    for record in data:\n",
    "        lines = record['entity'].split('\\n')\n",
    "        for line in lines:\n",
    "            line = standardize_delimiter(line)\n",
    "            parts = line.split(tuple_delimiter)\n",
    "            if parts[0] == \"entity\":\n",
    "                entities.append((parts[1], parts[2], parts[3], record['document']))\n",
    "            elif parts[0] == \"relationship\":\n",
    "                relationships.append((parts[1], parts[2], parts[3], int(parts[4]), record['document']))\n",
    "    \n",
    "    return entities, relationships"
   ]
  },
  {
   "cell_type": "code",
   "execution_count": 49,
   "metadata": {},
   "outputs": [],
   "source": [
    "entities, relationships = parse_input(documents)"
   ]
  },
  {
   "cell_type": "code",
   "execution_count": 14,
   "metadata": {},
   "outputs": [],
   "source": [
    "tuple_delimiter = '{tuple_delimiter}'\n",
    "record = documents[0]['entity']\n",
    "entity = record.split('\\n\\n')[0]\n",
    "relation = record.split('\\n\\n')[1]\n"
   ]
  },
  {
   "cell_type": "code",
   "execution_count": 53,
   "metadata": {},
   "outputs": [
    {
     "data": {
      "text/plain": [
       "('ROBOTAXI',\n",
       " 'TECHNOLOGY, TRANSPORTATION',\n",
       " 'ROBOTAXI refers to a fully autonomous vehicle that provides taxi services without a human driver. It is part of the autonomous vehicle technology advancements aimed at revolutionizing transportation.',\n",
       " 'Wuhan is a national pioneer in opening urban areas to robotaxi services, calling itself \"the world\\'s largest autonomous-driving operation service region\".')"
      ]
     },
     "execution_count": 53,
     "metadata": {},
     "output_type": "execute_result"
    }
   ],
   "source": [
    "entities[5]"
   ]
  }
 ],
 "metadata": {
  "kernelspec": {
   "display_name": "agent",
   "language": "python",
   "name": "python3"
  },
  "language_info": {
   "codemirror_mode": {
    "name": "ipython",
    "version": 3
   },
   "file_extension": ".py",
   "mimetype": "text/x-python",
   "name": "python",
   "nbconvert_exporter": "python",
   "pygments_lexer": "ipython3",
   "version": "3.11.9"
  }
 },
 "nbformat": 4,
 "nbformat_minor": 2
}

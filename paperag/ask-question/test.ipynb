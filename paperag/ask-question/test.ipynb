{
 "cells": [
  {
   "cell_type": "code",
   "execution_count": 2,
   "metadata": {},
   "outputs": [],
   "source": [
    "import jsonlines\n",
    "input_file = 'clustered_points.jsonl'\n",
    "with jsonlines.open(input_file, mode='r') as reader:\n",
    "    documents = [doc for doc in reader]"
   ]
  },
  {
   "cell_type": "code",
   "execution_count": 10,
   "metadata": {},
   "outputs": [
    {
     "name": "stdout",
     "output_type": "stream",
     "text": [
      "ZEEKR is co-developing a purpose-built self-driving taxi with Waymo, scheduled for major testing in 2024 and commercial launch afterwards.\n",
      "\n",
      "Dubai is leading the way in urban AV deployment, trialing robotaxis and aiming to have 4,000 self-driving cars by 2030, with a quarter of all journeys expected to be autonomous by that year.\n"
     ]
    }
   ],
   "source": [
    "print('\\n\\n'.join(documents[1]['22']))"
   ]
  },
  {
   "cell_type": "code",
   "execution_count": null,
   "metadata": {},
   "outputs": [],
   "source": []
  }
 ],
 "metadata": {
  "kernelspec": {
   "display_name": "agent",
   "language": "python",
   "name": "python3"
  },
  "language_info": {
   "codemirror_mode": {
    "name": "ipython",
    "version": 3
   },
   "file_extension": ".py",
   "mimetype": "text/x-python",
   "name": "python",
   "nbconvert_exporter": "python",
   "pygments_lexer": "ipython3",
   "version": "3.11.9"
  }
 },
 "nbformat": 4,
 "nbformat_minor": 2
}

{
 "cells": [
  {
   "cell_type": "code",
   "execution_count": 1,
   "metadata": {},
   "outputs": [
    {
     "name": "stderr",
     "output_type": "stream",
     "text": [
      "/root/miniconda3/envs/agent/lib/python3.11/site-packages/tqdm/auto.py:21: TqdmWarning: IProgress not found. Please update jupyter and ipywidgets. See https://ipywidgets.readthedocs.io/en/stable/user_install.html\n",
      "  from .autonotebook import tqdm as notebook_tqdm\n"
     ]
    }
   ],
   "source": [
    "from datasets import load_dataset\n",
    "\n",
    "passages = load_dataset(\"UKPLab/dapr\", \"MSMARCO-corpus\", split=\"test\")\n",
    "queries = load_dataset(\"UKPLab/dapr\", \"MSMARCO-queries\", split=\"test\")\n",
    "qrels_rows = load_dataset(\"UKPLab/dapr\", \"MSMARCO-qrels\", split=\"test\")\n",
    "\n",
    "role_answer = load_dataset(\"elricwan/MSMARCO-queries-roleAns\", split=\"train\")"
   ]
  },
  {
   "cell_type": "code",
   "execution_count": 2,
   "metadata": {},
   "outputs": [],
   "source": [
    "import sqlite3\n",
    "\n",
    "# Create or open a database\n",
    "conn = sqlite3.connect(\"passages.db\")\n",
    "cursor = conn.cursor()\n",
    "\n",
    "# Create a table\n",
    "# cursor.execute('''\n",
    "#     CREATE TABLE IF NOT EXISTS passages (\n",
    "#         _id TEXT PRIMARY KEY,\n",
    "#         text TEXT,\n",
    "#         title TEXT,\n",
    "#         doc_id TEXT,\n",
    "#         paragraph_no INTEGER,\n",
    "#         total_paragraphs INTEGER,\n",
    "#         is_candidate BOOLEAN\n",
    "#     )\n",
    "# ''')\n",
    "# # Insert data into the table\n",
    "# # Assuming `passages` is your dataset object\n",
    "# for passage in passages:\n",
    "#     cursor.execute('''\n",
    "#         INSERT OR IGNORE INTO passages VALUES (?, ?, ?, ?, ?, ?, ?)\n",
    "#     ''', (passage['_id'], passage['text'], passage['title'], passage['doc_id'], passage['paragraph_no'], passage['total_paragraphs'], passage['is_candidate']))\n",
    "\n",
    "# conn.commit()"
   ]
  },
  {
   "cell_type": "code",
   "execution_count": 3,
   "metadata": {},
   "outputs": [],
   "source": [
    "# Query by _id\n",
    "def get_text_by_id(_id):\n",
    "    cursor.execute('SELECT text FROM passages WHERE _id = ?', (_id,))\n",
    "    result = cursor.fetchone()\n",
    "    return result[0] if result else None\n",
    "\n",
    "# Example usage\n",
    "text = get_text_by_id('D2147834-0')"
   ]
  },
  {
   "cell_type": "code",
   "execution_count": 5,
   "metadata": {},
   "outputs": [],
   "source": [
    "# convert role_answer to a searchable dictionary\n",
    "role_answer_dict = {}\n",
    "for item in role_answer:\n",
    "    _id = item['_id']\n",
    "    role_answer_dict[_id] = {}\n",
    "    role_answer_dict[_id]['question'] = item['text']\n",
    "    role_answer_dict[_id]['answers'] = item['answers']"
   ]
  },
  {
   "cell_type": "code",
   "execution_count": 6,
   "metadata": {},
   "outputs": [],
   "source": [
    "from typing import Dict\n",
    "\n",
    "qrels: Dict[str, Dict[str, float]] = {}\n",
    "for qrel_row in qrels_rows:\n",
    "    qid = qrel_row[\"query_id\"]\n",
    "    pid = qrel_row[\"corpus_id\"]\n",
    "    rel = qrel_row[\"score\"]\n",
    "    qrels.setdefault(qid, {})\n",
    "    qrels[qid][pid] = rel"
   ]
  },
  {
   "cell_type": "code",
   "execution_count": 7,
   "metadata": {},
   "outputs": [],
   "source": [
    "import ollama\n",
    "import numpy as np\n",
    "# Function to calculate embedding for each point\n",
    "def calculate_embedding(point):\n",
    "    embedding = ollama.embeddings(model='mxbai-embed-large', prompt=point)[\"embedding\"]\n",
    "    return embedding"
   ]
  },
  {
   "cell_type": "code",
   "execution_count": 8,
   "metadata": {},
   "outputs": [
    {
     "name": "stdout",
     "output_type": "stream",
     "text": [
      "Connected to Milvus\n"
     ]
    }
   ],
   "source": [
    "from src.milvus_database import connect_to_milvus, create_index, search_document_by_embedding\n",
    "\n",
    "document_collection_name = \"graphrag_document_collection\"\n",
    "connect_to_milvus()\n",
    "#create_index(document_collection_name, \"text_embedding\")"
   ]
  },
  {
   "cell_type": "code",
   "execution_count": 11,
   "metadata": {},
   "outputs": [
    {
     "data": {
      "text/plain": [
       "6010953"
      ]
     },
     "execution_count": 11,
     "metadata": {},
     "output_type": "execute_result"
    }
   ],
   "source": [
    "from pymilvus import Collection\n",
    "collection = Collection(document_collection_name)\n",
    "collection.num_entities"
   ]
  },
  {
   "cell_type": "code",
   "execution_count": 75,
   "metadata": {},
   "outputs": [],
   "source": [
    "import json\n",
    "\n",
    "with open('jsonl/data.json', 'r') as file:\n",
    "    data = json.load(file)\n",
    "with open('jsonl/retrieve.json', 'r') as file:\n",
    "    retrieve = json.load(file)\n"
   ]
  },
  {
   "cell_type": "code",
   "execution_count": 106,
   "metadata": {},
   "outputs": [],
   "source": [
    "# Function to compare the datasets without considering the prefix\n",
    "def compare_retrieve(data1, data2):\n",
    "    results = {}\n",
    "    for key in data2:\n",
    "        # sort data1 by distance\n",
    "        sample_question = sorted(data1[key]['question'], key=lambda x: x[1])\n",
    "        sample_answer = sorted(data1[key]['General'], key=lambda x: x[1])\n",
    "       \n",
    "\n",
    "        # Get the set of document IDs in data1 for the current category\n",
    "        data1_question_ids = {item[0] for item in sample_question}\n",
    "        data1_general_ids = {item[0] for item in sample_answer}\n",
    "        \n",
    "        # Get the set of document IDs in data2 for the current category\n",
    "        data2_ids = set(data2[key].keys())\n",
    "        \n",
    "        # Check if all IDs from data2 exist in data1\n",
    "        question_contains_all = data2_ids.issubset(data1_question_ids)\n",
    "        answer_contains_all = data2_ids.issubset(data1_general_ids)\n",
    "\n",
    "        # Check if there is any overlap between data1 and data2\n",
    "        overlap_question = bool(data1_question_ids.intersection(data2_ids))\n",
    "        overlap_answer = bool(data1_general_ids.intersection(data2_ids))\n",
    "        \n",
    "        # Store results\n",
    "        results[key] = {\n",
    "            'question_contains_all': question_contains_all,\n",
    "            'answer_contains_all': answer_contains_all,\n",
    "            'overlap_question': overlap_question,\n",
    "            'overlap_answer': overlap_answer,\n",
    "        }\n",
    "       \n",
    "    return results"
   ]
  },
  {
   "cell_type": "code",
   "execution_count": 108,
   "metadata": {},
   "outputs": [
    {
     "name": "stdout",
     "output_type": "stream",
     "text": [
      "2302\n",
      "2149\n"
     ]
    }
   ],
   "source": [
    "print(len([key for key in results_question if results_question[key]['overlap_question']]))\n",
    "print(len([key for key in results_question if results_question[key]['overlap_answer']]))"
   ]
  },
  {
   "cell_type": "code",
   "execution_count": 107,
   "metadata": {},
   "outputs": [
    {
     "name": "stdout",
     "output_type": "stream",
     "text": [
      "2273\n",
      "2119\n"
     ]
    }
   ],
   "source": [
    "results_question = compare_retrieve(retrieve, qrels)\n",
    "print(len([key for key in results_question if results_question[key]['question_contains_all']]))\n",
    "print(len([key for key in results_question if results_question[key]['answer_contains_all']]))"
   ]
  },
  {
   "cell_type": "code",
   "execution_count": 111,
   "metadata": {},
   "outputs": [
    {
     "data": {
      "text/plain": [
       "2386"
      ]
     },
     "execution_count": 111,
     "metadata": {},
     "output_type": "execute_result"
    }
   ],
   "source": [
    "aaa = [key for key in results_question if results_question[key]['question_contains_all']] + [key for key in results_question if results_question[key]['answer_contains_all']]\n",
    "len(set(aaa))"
   ]
  },
  {
   "cell_type": "code",
   "execution_count": 112,
   "metadata": {},
   "outputs": [
    {
     "data": {
      "text/plain": [
       "2412"
      ]
     },
     "execution_count": 112,
     "metadata": {},
     "output_type": "execute_result"
    }
   ],
   "source": [
    "bbb = [key for key in results_question if results_question[key]['overlap_question']] + [key for key in results_question if results_question[key]['overlap_answer']]\n",
    "len(set(bbb))"
   ]
  }
 ],
 "metadata": {
  "kernelspec": {
   "display_name": "agent",
   "language": "python",
   "name": "python3"
  },
  "language_info": {
   "codemirror_mode": {
    "name": "ipython",
    "version": 3
   },
   "file_extension": ".py",
   "mimetype": "text/x-python",
   "name": "python",
   "nbconvert_exporter": "python",
   "pygments_lexer": "ipython3",
   "version": "3.11.9"
  }
 },
 "nbformat": 4,
 "nbformat_minor": 2
}
